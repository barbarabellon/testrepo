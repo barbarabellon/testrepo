{
 "cells": [
  {
   "cell_type": "markdown",
   "id": "90fb54e0",
   "metadata": {},
   "source": [
    "# Wulffpack Python\n",
    "\n",
    "To use the Wulf pack in python first the package should be installed, this can be done by this command"
   ]
  },
  {
   "cell_type": "code",
   "execution_count": 3,
   "id": "eed8984b",
   "metadata": {},
   "outputs": [],
   "source": [
    "from wulffpack import (SingleCrystal,\n",
    "                       Decahedron,\n",
    "                       Icosahedron)\n",
    "from ase.build import bulk\n",
    "from ase.io import write\n",
    "\n",
    "\n",
    "from scipy.spatial import Delaunay \n",
    "import matplotlib.tri\n",
    "import matplotlib.collections\n",
    "\n",
    "#basic plots\n",
    "import matplotlib as mpl\n",
    "import matplotlib.pyplot as plt\n",
    "import matplotlib.patches as mpatches\n",
    "import plotly.express as px\n",
    "import plotly.graph_objects as go\n",
    "\n",
    "#Interactive chart\n",
    "import plotly.offline as py\n",
    "import json\n",
    "\n",
    "%matplotlib qt5"
   ]
  },
  {
   "cell_type": "code",
   "execution_count": 7,
   "id": "102ba9fe",
   "metadata": {},
   "outputs": [],
   "source": [
    "#####NO BORRAR!!!\n",
    "prim = bulk('Ni',\n",
    "            crystalstructure='fcc',\n",
    "            a=3.52)\n",
    "surface_energies = {(1, 1, 0): 1.026, \n",
    "                    (1, 0, 0): 1.1, \n",
    "                    (1,1,1):1.00, \n",
    "                   (2,1,0):1.035,\n",
    "                   (3,2,0):1.01}\n",
    "particle = SingleCrystal(surface_energies,primitive_structure=prim)\n",
    "particle.view()\n",
    "particle.write('Ni_SC_new.obj')\n"
   ]
  },
  {
   "cell_type": "code",
   "execution_count": 3,
   "id": "14818e4d",
   "metadata": {},
   "outputs": [
    {
     "ename": "TypeError",
     "evalue": "'Atoms' object is not callable",
     "output_type": "error",
     "traceback": [
      "\u001b[1;31m---------------------------------------------------------------------------\u001b[0m",
      "\u001b[1;31mTypeError\u001b[0m                                 Traceback (most recent call last)",
      "Cell \u001b[1;32mIn[3], line 1\u001b[0m\n\u001b[1;32m----> 1\u001b[0m \u001b[43mparticle\u001b[49m\u001b[38;5;241;43m.\u001b[39;49m\u001b[43matoms\u001b[49m\u001b[43m(\u001b[49m\u001b[38;5;241;43m100000\u001b[39;49m\u001b[43m)\u001b[49m\n",
      "\u001b[1;31mTypeError\u001b[0m: 'Atoms' object is not callable"
     ]
    }
   ],
   "source": [
    "particle.natoms00"
   ]
  },
  {
   "cell_type": "code",
   "execution_count": 6,
   "id": "f7a9038b",
   "metadata": {},
   "outputs": [
    {
     "data": {
      "text/plain": [
       "{(1, 1, 0): 1.026,\n",
       " (1, 0, 0): 1.1,\n",
       " (1, 1, 1): 1.0,\n",
       " (2, 1, 0): 1.035,\n",
       " (3, 2, 0): 1.01}"
      ]
     },
     "execution_count": 6,
     "metadata": {},
     "output_type": "execute_result"
    }
   ],
   "source": [
    "dictionary={(1, 1, 0): 1.026, \n",
    "                    (1, 0, 0): 1.1, \n",
    "                    (1,1,1):1.00, \n",
    "                   (2,1,0):1.035,\n",
    "                   (3,2,0):1.01}\n",
    "dictionary"
   ]
  },
  {
   "cell_type": "code",
   "execution_count": 8,
   "id": "aaf59eb8",
   "metadata": {},
   "outputs": [],
   "source": [
    "#####NO BORRAR!!!\n",
    "prim = bulk('Ni',\n",
    "            crystalstructure='fcc',\n",
    "            a=3.52)\n",
    "surface_energies = {(1, 1, 0): 1.125, \n",
    "                    (1, 0, 0): 1.109, \n",
    "                    (1,1,1):1.05, \n",
    "                    (1,3,5): 1.135,\n",
    "                   (1,3,8): 1.15,\n",
    "                   (1,2,0):1.078,\n",
    "                   (1,3,0):1.10,\n",
    "                   (1,1,2):1.3099}\n",
    "particle = SingleCrystal(surface_energies,primitive_structure=prim)\n",
    "particle.view()\n",
    "particle.write('Ni_SC.obj')\n"
   ]
  },
  {
   "cell_type": "code",
   "execution_count": 1,
   "id": "a60bce7a",
   "metadata": {},
   "outputs": [
    {
     "ename": "NameError",
     "evalue": "name 'bulk' is not defined",
     "output_type": "error",
     "traceback": [
      "\u001b[1;31m---------------------------------------------------------------------------\u001b[0m",
      "\u001b[1;31mNameError\u001b[0m                                 Traceback (most recent call last)",
      "\u001b[1;32m~\\AppData\\Local\\Temp\\ipykernel_20152\\1832639294.py\u001b[0m in \u001b[0;36m<module>\u001b[1;34m\u001b[0m\n\u001b[0;32m      1\u001b[0m \u001b[1;31m#####NO BORRAR!!!\u001b[0m\u001b[1;33m\u001b[0m\u001b[1;33m\u001b[0m\u001b[0m\n\u001b[1;32m----> 2\u001b[1;33m prim = bulk('O',\n\u001b[0m\u001b[0;32m      3\u001b[0m             \u001b[0mcrystalstructure\u001b[0m\u001b[1;33m=\u001b[0m\u001b[1;34m'hcp'\u001b[0m\u001b[1;33m,\u001b[0m\u001b[1;33m\u001b[0m\u001b[1;33m\u001b[0m\u001b[0m\n\u001b[0;32m      4\u001b[0m             a=4.785, c=12.991)\n\u001b[0;32m      5\u001b[0m surface_energies = {(0, 0, 0, 1): 1.30,\n",
      "\u001b[1;31mNameError\u001b[0m: name 'bulk' is not defined"
     ]
    }
   ],
   "source": [
    "#####NO BORRAR!!!\n",
    "prim = bulk('O',\n",
    "            crystalstructure='hcp',\n",
    "            a=4.785, c=12.991)\n",
    "surface_energies = {(0, 0, 0, 1): 1.30,\n",
    "                    (1, 1, -2, 0): 0.9,\n",
    "                    (1, 0, -1, 1): 1.10,\n",
    "                    (1, -1, 0, 0): 1.10}\n",
    "particle = SingleCrystal(surface_energies,primitive_structure=prim)\n",
    "particle.view()\n",
    "particle.write('Ni_SC.obj')"
   ]
  },
  {
   "cell_type": "code",
   "execution_count": null,
   "id": "5b36d68a",
   "metadata": {},
   "outputs": [],
   "source": [
    "1.10/1.05"
   ]
  },
  {
   "cell_type": "code",
   "execution_count": null,
   "id": "fbc70c70",
   "metadata": {},
   "outputs": [],
   "source": [
    "for a in range(-2,3,1):\n",
    "    print(a*0.01)"
   ]
  },
  {
   "cell_type": "code",
   "execution_count": null,
   "id": "a6b423ca",
   "metadata": {
    "scrolled": true
   },
   "outputs": [],
   "source": [
    "surface_energies = {(1, 1, 0): 1.125, \n",
    "                    (1, 0, 0): 1.109, \n",
    "                    (1,1,1):1.05, \n",
    "                    (1,3,5): 1.135,\n",
    "                   (1,3,8): 1.15,\n",
    "                   (1,2,0):1.077,\n",
    "                   (1,3,0):1.10,\n",
    "                   (1,1,2):1.3099}\n",
    "\n",
    "a=1.125\n",
    "b=1.109\n",
    "c=1.077\n",
    "d=1.10\n",
    "for i in range(-2,3,1):\n",
    "    a = a+0.001*i\n",
    "    for j in range(-2,3,1):\n",
    "        b = b+0.001*j\n",
    "        for k in range(-2,3,1):\n",
    "            c= c+0.001*k\n",
    "            for l in range(-2,3,1):\n",
    "                d= d+0.001*l\n",
    "                surface_energies = {(1, 1, 0):a, \n",
    "                        (1, 0, 0):b, \n",
    "                        (1,1,1):1.05, \n",
    "                        (1,3,5):1.135,\n",
    "                       (1,3,8): 1.04,\n",
    "                       (1,2,0):c,\n",
    "                       (1,3,0):d,\n",
    "                        (1,1,2):1.3099}\n",
    "                print(surface_energies)\n",
    "                #fig = plt.figure(figsize=(4.0, 4.0))\n",
    "                particle = SingleCrystal(surface_energies)\n",
    "                particle.view()   \n",
    "                #ax = fig.add_subplot(111, projection='3d')\n",
    "                #ax.text2D(0.05, 0.95, str(surface_energies), transform=ax.transAxes)\n",
    "                #ax.annotate(surface_energies,xy=[0,0.5])\n",
    "                #particle.make_plot(ax)\n",
    "                #plt.show()"
   ]
  },
  {
   "cell_type": "code",
   "execution_count": 5,
   "id": "0eeaf475",
   "metadata": {},
   "outputs": [],
   "source": [
    "from wulffpack import Winterbottom\n",
    "\n",
    "from ase.build import bulk\n",
    "import matplotlib.pyplot as plt\n",
    "\n",
    "from mpl_toolkits.mplot3d import Axes3D\n",
    "from ase.io import write\n",
    "\n",
    "surface_energies = {(1, 1, 0): 1.018/1.008, \n",
    "                    (1, 0, 0): 1.1/1.008, \n",
    "                    (1,1,1):1.008/1.008, \n",
    "                   (2,1,0):1.035/1.008,\n",
    "                   (3,2,0):1.0/1.008}\n",
    "\n",
    "prim = bulk('Ni', a=3.52, crystalstructure='fcc')\n",
    "for i in range(10):\n",
    "    particle = Winterbottom(surface_energies=surface_energies,\n",
    "\n",
    "                        interface_direction=(1, 1,1),\n",
    "\n",
    "                        interface_energy=0.99-0.1*i,\n",
    "\n",
    "                        primitive_structure=prim)\n",
    "    \n",
    "    #py.init_notebook_mode(connected=False)\n",
    "    #figura = particle.make_plot(ax)\n",
    "    #fig=px.scatter_3d(figura)\n",
    "    #ax = fig.add_subplot(111, projection='3d')\n",
    "    particle.view()\n",
    "    #plt.show()\n",
    "    name=1-0.1*i\n",
    "    particle.write('Ni_SC_'+str(name)+'.obj')  # Writes atomic structure to file\n",
    "    #py.offline.plot(fig, filename='Ni_SC'+str(name)+'.html')"
   ]
  },
  {
   "cell_type": "code",
   "execution_count": 10,
   "id": "0157a688",
   "metadata": {},
   "outputs": [],
   "source": [
    "particle.natoms=100\n",
    "\n",
    "write('winterbottom.xyz',particle.atoms)"
   ]
  },
  {
   "cell_type": "code",
   "execution_count": null,
   "id": "c8f48705",
   "metadata": {},
   "outputs": [],
   "source": []
  }
 ],
 "metadata": {
  "kernelspec": {
   "display_name": "Python 3 (Spyder)",
   "language": "python3",
   "name": "python3"
  },
  "language_info": {
   "codemirror_mode": {
    "name": "ipython",
    "version": 3
   },
   "file_extension": ".py",
   "mimetype": "text/x-python",
   "name": "python",
   "nbconvert_exporter": "python",
   "pygments_lexer": "ipython3",
   "version": "3.9.16"
  }
 },
 "nbformat": 4,
 "nbformat_minor": 5
}
